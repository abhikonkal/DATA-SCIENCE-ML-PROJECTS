{
 "cells": [
  {
   "cell_type": "code",
   "execution_count": 74,
   "metadata": {},
   "outputs": [],
   "source": [
    "import numpy as np\n",
    "import pandas as pd\n",
    "import matplotlib as mpl\n",
    "import matplotlib.pyplot as plt\n",
    "import random"
   ]
  },
  {
   "cell_type": "markdown",
   "metadata": {},
   "source": [
    "Q NO 1"
   ]
  },
  {
   "cell_type": "code",
   "execution_count": 122,
   "metadata": {},
   "outputs": [
    {
     "data": {
      "image/png": "[encoded data removed]",
      "text/plain": [
       "<Figure size 432x288 with 1 Axes>"
      ]
     },
     "metadata": {
      "needs_background": "light"
     },
     "output_type": "display_data"
    }
   ],
   "source": [
    "df=pd.read_csv('Hurricanes.csv')\n",
    "x=df['Year']\n",
    "y=df['Hurricanes']\n",
    "plt.hist(df['Year'],weights=df['Hurricanes'],color='blue')\n",
    "plt.xlabel('YEAR',color='green')\n",
    "plt.title('Hurricane year wise count in US',color='green')\n",
    "plt.ylabel('NO of HURRICANE',color='green')\n",
    "plt.show()\n"
   ]
  },
  {
   "cell_type": "markdown",
   "metadata": {},
   "source": [
    "Q NO 2"
   ]
  },
  {
   "cell_type": "code",
   "execution_count": 76,
   "metadata": {},
   "outputs": [
    {
     "name": "stderr",
     "output_type": "stream",
     "text": [
      "No handles with labels found to put in legend.\n"
     ]
    },
    {
     "data": {
      "text/plain": [
       "<matplotlib.legend.Legend at 0x1cd301b2ca0>"
      ]
     },
     "execution_count": 76,
     "metadata": {},
     "output_type": "execute_result"
    },
    {
     "data": {
      "image/png": "[encoded data removed]",
      "text/plain": [
       "<Figure size 432x288 with 1 Axes>"
      ]
     },
     "metadata": {
      "needs_background": "light"
     },
     "output_type": "display_data"
    }
   ],
   "source": [
    "dft=pd.read_csv('CityTemps.csv')\n",
    "x=dft['Moscow']\n",
    "x_san=dft['San Francisco']\n",
    "plt.hist(x,len(x),color='green',alpha=0.8)\n",
    "plt.hist(x_san,len(x_san),color='blue',alpha=1)\n",
    "plt.grid()\n",
    "plt.xlabel(\"TEMPERATURES\")\n",
    "plt.ylabel(\"FREQUENCIES\")\n",
    "plt.title(\"Temperatures of Mosco and San Francisco\")\n",
    "plt.legend()"
   ]
  },
  {
   "cell_type": "markdown",
   "metadata": {},
   "source": [
    "Q NO 3"
   ]
  },
  {
   "cell_type": "code",
   "execution_count": 77,
   "metadata": {},
   "outputs": [
    {
     "data": {
      "text/html": [
       "<div>\n",
       "<style scoped>\n",
       "    .dataframe tbody tr th:only-of-type {\n",
       "        vertical-align: middle;\n",
       "    }\n",
       "\n",
       "    .dataframe tbody tr th {\n",
       "        vertical-align: top;\n",
       "    }\n",
       "\n",
       "    .dataframe thead th {\n",
       "        text-align: right;\n",
       "    }\n",
       "</style>\n",
       "<table border=\"1\" class=\"dataframe\">\n",
       "  <thead>\n",
       "    <tr style=\"text-align: right;\">\n",
       "      <th></th>\n",
       "      <th>account_number</th>\n",
       "      <th>name</th>\n",
       "      <th>item_code</th>\n",
       "      <th>category</th>\n",
       "      <th>quantity</th>\n",
       "      <th>unit price</th>\n",
       "      <th>net_price</th>\n",
       "      <th>date</th>\n",
       "    </tr>\n",
       "  </thead>\n",
       "  <tbody>\n",
       "    <tr>\n",
       "      <th>0</th>\n",
       "      <td>296809</td>\n",
       "      <td>Carroll PLC</td>\n",
       "      <td>QN-82852</td>\n",
       "      <td>Belt</td>\n",
       "      <td>13</td>\n",
       "      <td>44.48</td>\n",
       "      <td>578.24</td>\n",
       "      <td>2014-09-27 07:13:03</td>\n",
       "    </tr>\n",
       "    <tr>\n",
       "      <th>1</th>\n",
       "      <td>98022</td>\n",
       "      <td>Heidenreich-Bosco</td>\n",
       "      <td>MJ-21460</td>\n",
       "      <td>Shoes</td>\n",
       "      <td>19</td>\n",
       "      <td>53.62</td>\n",
       "      <td>1018.78</td>\n",
       "      <td>2014-07-29 02:10:44</td>\n",
       "    </tr>\n",
       "    <tr>\n",
       "      <th>2</th>\n",
       "      <td>563905</td>\n",
       "      <td>Kerluke, Reilly and Bechtelar</td>\n",
       "      <td>AS-93055</td>\n",
       "      <td>Shirt</td>\n",
       "      <td>12</td>\n",
       "      <td>24.16</td>\n",
       "      <td>289.92</td>\n",
       "      <td>2014-03-01 10:51:24</td>\n",
       "    </tr>\n",
       "    <tr>\n",
       "      <th>3</th>\n",
       "      <td>93356</td>\n",
       "      <td>Waters-Walker</td>\n",
       "      <td>AS-93055</td>\n",
       "      <td>Shirt</td>\n",
       "      <td>5</td>\n",
       "      <td>82.68</td>\n",
       "      <td>413.40</td>\n",
       "      <td>2013-11-17 20:41:11</td>\n",
       "    </tr>\n",
       "    <tr>\n",
       "      <th>4</th>\n",
       "      <td>659366</td>\n",
       "      <td>Waelchi-Fahey</td>\n",
       "      <td>AS-93055</td>\n",
       "      <td>Shirt</td>\n",
       "      <td>18</td>\n",
       "      <td>99.64</td>\n",
       "      <td>1793.52</td>\n",
       "      <td>2014-01-03 08:14:27</td>\n",
       "    </tr>\n",
       "    <tr>\n",
       "      <th>...</th>\n",
       "      <td>...</td>\n",
       "      <td>...</td>\n",
       "      <td>...</td>\n",
       "      <td>...</td>\n",
       "      <td>...</td>\n",
       "      <td>...</td>\n",
       "      <td>...</td>\n",
       "      <td>...</td>\n",
       "    </tr>\n",
       "    <tr>\n",
       "      <th>995</th>\n",
       "      <td>758133</td>\n",
       "      <td>Kihn, McClure and Denesik</td>\n",
       "      <td>WJ-02096</td>\n",
       "      <td>Belt</td>\n",
       "      <td>11</td>\n",
       "      <td>60.50</td>\n",
       "      <td>665.50</td>\n",
       "      <td>2014-08-03 10:39:51</td>\n",
       "    </tr>\n",
       "    <tr>\n",
       "      <th>996</th>\n",
       "      <td>850140</td>\n",
       "      <td>Kunze Inc</td>\n",
       "      <td>GS-86623</td>\n",
       "      <td>Shoes</td>\n",
       "      <td>16</td>\n",
       "      <td>19.66</td>\n",
       "      <td>314.56</td>\n",
       "      <td>2014-05-03 21:18:15</td>\n",
       "    </tr>\n",
       "    <tr>\n",
       "      <th>997</th>\n",
       "      <td>93356</td>\n",
       "      <td>Waters-Walker</td>\n",
       "      <td>GS-86623</td>\n",
       "      <td>Shoes</td>\n",
       "      <td>13</td>\n",
       "      <td>90.95</td>\n",
       "      <td>1182.35</td>\n",
       "      <td>2014-06-14 12:43:51</td>\n",
       "    </tr>\n",
       "    <tr>\n",
       "      <th>998</th>\n",
       "      <td>304860</td>\n",
       "      <td>Huel-Haag</td>\n",
       "      <td>LL-46261</td>\n",
       "      <td>Shoes</td>\n",
       "      <td>9</td>\n",
       "      <td>98.22</td>\n",
       "      <td>883.98</td>\n",
       "      <td>2014-07-26 01:10:57</td>\n",
       "    </tr>\n",
       "    <tr>\n",
       "      <th>999</th>\n",
       "      <td>98022</td>\n",
       "      <td>Heidenreich-Bosco</td>\n",
       "      <td>LW-86841</td>\n",
       "      <td>Shoes</td>\n",
       "      <td>14</td>\n",
       "      <td>74.83</td>\n",
       "      <td>1047.62</td>\n",
       "      <td>2014-06-27 05:58:33</td>\n",
       "    </tr>\n",
       "  </tbody>\n",
       "</table>\n",
       "<p>1000 rows × 8 columns</p>\n",
       "</div>"
      ],
      "text/plain": [
       "     account_number                           name item_code category  \\\n",
       "0            296809                    Carroll PLC  QN-82852     Belt   \n",
       "1             98022              Heidenreich-Bosco  MJ-21460    Shoes   \n",
       "2            563905  Kerluke, Reilly and Bechtelar  AS-93055    Shirt   \n",
       "3             93356                  Waters-Walker  AS-93055    Shirt   \n",
       "4            659366                  Waelchi-Fahey  AS-93055    Shirt   \n",
       "..              ...                            ...       ...      ...   \n",
       "995          758133      Kihn, McClure and Denesik  WJ-02096     Belt   \n",
       "996          850140                      Kunze Inc  GS-86623    Shoes   \n",
       "997           93356                  Waters-Walker  GS-86623    Shoes   \n",
       "998          304860                      Huel-Haag  LL-46261    Shoes   \n",
       "999           98022              Heidenreich-Bosco  LW-86841    Shoes   \n",
       "\n",
       "     quantity  unit price  net_price                 date  \n",
       "0          13       44.48     578.24  2014-09-27 07:13:03  \n",
       "1          19       53.62    1018.78  2014-07-29 02:10:44  \n",
       "2          12       24.16     289.92  2014-03-01 10:51:24  \n",
       "3           5       82.68     413.40  2013-11-17 20:41:11  \n",
       "4          18       99.64    1793.52  2014-01-03 08:14:27  \n",
       "..        ...         ...        ...                  ...  \n",
       "995        11       60.50     665.50  2014-08-03 10:39:51  \n",
       "996        16       19.66     314.56  2014-05-03 21:18:15  \n",
       "997        13       90.95    1182.35  2014-06-14 12:43:51  \n",
       "998         9       98.22     883.98  2014-07-26 01:10:57  \n",
       "999        14       74.83    1047.62  2014-06-27 05:58:33  \n",
       "\n",
       "[1000 rows x 8 columns]"
      ]
     },
     "execution_count": 77,
     "metadata": {},
     "output_type": "execute_result"
    }
   ],
   "source": [
    "df=pd.read_csv('data_file.txt',sep=',')\n",
    "df"
   ]
  },
  {
   "cell_type": "code",
   "execution_count": 78,
   "metadata": {},
   "outputs": [],
   "source": [
    "final_csv=df.to_csv('FInal_csv.csv')"
   ]
  },
  {
   "cell_type": "markdown",
   "metadata": {},
   "source": [
    "Q NO 4"
   ]
  },
  {
   "cell_type": "code",
   "execution_count": 124,
   "metadata": {},
   "outputs": [
    {
     "data": {
      "image/png": "[encoded data removed]",
      "text/plain": [
       "<Figure size 432x288 with 1 Axes>"
      ]
     },
     "metadata": {
      "needs_background": "light"
     },
     "output_type": "display_data"
    },
    {
     "data": {
      "text/plain": [
       "<Figure size 400x500 with 0 Axes>"
      ]
     },
     "metadata": {},
     "output_type": "display_data"
    }
   ],
   "source": [
    "x = [1,2,3,4]\n",
    "y = [20, 21, 20.5, 20.8]\n",
    "plt.plot(x,y,lineStyle='--',marker='o',linewidth='2',markerfacecolor='green',color='blue')\n",
    "plt.xlim(0,5)\n",
    "plt.ylim(18,21.5)\n",
    "plt.title('Simple plots bw xand y')\n",
    "plt.xlabel('X value')\n",
    "plt.ylabel('Y value')\n",
    "yerror=[0.12, 0.13, 0.2, 0.1]\n",
    "plt.errorbar(x,y,yerr=yerror,lineStyle='dashdot')\n",
    "plt.figure(figsize=(4,5),dpi=100)\n",
    "plt.rc('font',size=14)"
   ]
  },
  {
   "cell_type": "code",
   "execution_count": 101,
   "metadata": {},
   "outputs": [
    {
     "data": {
      "text/plain": [
       "Text(0.5, 1.0, 'Scatter plot')"
      ]
     },
     "execution_count": 101,
     "metadata": {},
     "output_type": "execute_result"
    },
    {
     "data": {
      "image/png": "[encoded data removed]",
      "text/plain": [
       "<Figure size 432x288 with 1 Axes>"
      ]
     },
     "metadata": {
      "needs_background": "light"
     },
     "output_type": "display_data"
    }
   ],
   "source": [
    "random.seed(0)\n",
    "x=np.random.randint(0,100,(1,100))\n",
    "y=np.linspace(0,1,num=100)\n",
    "plt.scatter(x,y,marker='o',)\n",
    "plt.xlabel('value of x')\n",
    "plt.ylabel('Value of y')\n",
    "plt.title('Scatter plot')"
   ]
  },
  {
   "cell_type": "code",
   "execution_count": 117,
   "metadata": {},
   "outputs": [
    {
     "data": {
      "text/plain": [
       "Text(0.5, 1.0, 'Pre vs Post TestScores')"
      ]
     },
     "execution_count": 117,
     "metadata": {},
     "output_type": "execute_result"
    },
    {
     "data": {
      "image/png": "[encoded data removed]",
      "text/plain": [
       "<Figure size 432x288 with 1 Axes>"
      ]
     },
     "metadata": {
      "needs_background": "light"
     },
     "output_type": "display_data"
    }
   ],
   "source": [
    "given={'first_name': ['Jason', 'Molly', 'Tina', 'Jake', 'Amy'], \n",
    "'last_name': ['Miller', 'Jacobson', 'Ali', 'Milner', 'Cooze'], \n",
    "'female': [0, 1, 1, 0, 1],\n",
    "'age': [42, 52, 36, 24, 73], \n",
    "'preTestScore': [4, 24, 31, 2, 3],\n",
    "'postTestScore': [25, 94, 57, 62, 70]}\n",
    "\n",
    "df=pd.DataFrame(given)\n",
    "x=df['preTestScore']\n",
    "y=df['postTestScore']\n",
    "age=df['age']\n",
    "plt.scatter(x,y,s=age,color='green')\n",
    "plt.xlabel('preTestScore')\n",
    "plt.ylabel('postTestScore')\n",
    "plt.title('Pre vs Post TestScores')"
   ]
  },
  {
   "cell_type": "code",
   "execution_count": 118,
   "metadata": {},
   "outputs": [
    {
     "data": {
      "text/plain": [
       "<matplotlib.collections.PathCollection at 0x1cd3065bf70>"
      ]
     },
     "execution_count": 118,
     "metadata": {},
     "output_type": "execute_result"
    },
    {
     "data": {
      "image/png": "[encoded data removed]",
      "text/plain": [
       "<Figure size 432x288 with 1 Axes>"
      ]
     },
     "metadata": {
      "needs_background": "light"
     },
     "output_type": "display_data"
    }
   ],
   "source": [
    "plt.scatter(x,y,s=300,c=df['female'])"
   ]
  },
  {
   "cell_type": "markdown",
   "metadata": {},
   "source": [
    "END"
   ]
  }
 ],
 "metadata": {
  "interpreter": {
   "hash": "9e67980e6d64a4c7721d634f88254d7147372ba0653f5cdb7c5fd69b2820489c"
  },
  "kernelspec": {
   "display_name": "Python 3.8.8 64-bit (conda)",
   "language": "python",
   "name": "python3"
  },
  "language_info": {
   "codemirror_mode": {
    "name": "ipython",
    "version": 3
   },
   "file_extension": ".py",
   "mimetype": "text/x-python",
   "name": "python",
   "nbconvert_exporter": "python",
   "pygments_lexer": "ipython3",
   "version": "3.8.8"
  },
  "orig_nbformat": 4
 },
 "nbformat": 4,
 "nbformat_minor": 2
}
