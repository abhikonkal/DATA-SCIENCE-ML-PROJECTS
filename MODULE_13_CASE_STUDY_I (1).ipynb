{
  "cells": [
    {
      "cell_type": "code",
      "execution_count": 171,
      "metadata": {
        "id": "3ODqKMvkiM_m"
      },
      "outputs": [],
      "source": [
        "import numpy as np\n",
        "import pandas as pd\n",
        "import matplotlib.pyplot as plt\n",
        "import seaborn as sns\n",
        "import sklearn"
      ]
    },
    {
      "cell_type": "code",
      "execution_count": 172,
      "metadata": {
        "colab": {
          "base_uri": "https://localhost:8080/",
          "height": 206
        },
        "id": "gH_wSqIviM_s",
        "outputId": "77d65efd-6233-4e30-b8d7-4fd493013dd1"
      },
      "outputs": [
        {
          "output_type": "execute_result",
          "data": {
            "text/html": [
              "\n",
              "  <div id=\"df-aa945f3e-52de-4b18-ad0e-e0393c2bc84f\">\n",
              "    <div class=\"colab-df-container\">\n",
              "      <div>\n",
              "<style scoped>\n",
              "    .dataframe tbody tr th:only-of-type {\n",
              "        vertical-align: middle;\n",
              "    }\n",
              "\n",
              "    .dataframe tbody tr th {\n",
              "        vertical-align: top;\n",
              "    }\n",
              "\n",
              "    .dataframe thead th {\n",
              "        text-align: right;\n",
              "    }\n",
              "</style>\n",
              "<table border=\"1\" class=\"dataframe\">\n",
              "  <thead>\n",
              "    <tr style=\"text-align: right;\">\n",
              "      <th></th>\n",
              "      <th>Month</th>\n",
              "      <th>#Passengers</th>\n",
              "    </tr>\n",
              "  </thead>\n",
              "  <tbody>\n",
              "    <tr>\n",
              "      <th>0</th>\n",
              "      <td>2003-01</td>\n",
              "      <td>112</td>\n",
              "    </tr>\n",
              "    <tr>\n",
              "      <th>1</th>\n",
              "      <td>2003-02</td>\n",
              "      <td>118</td>\n",
              "    </tr>\n",
              "    <tr>\n",
              "      <th>2</th>\n",
              "      <td>2003-03</td>\n",
              "      <td>132</td>\n",
              "    </tr>\n",
              "    <tr>\n",
              "      <th>3</th>\n",
              "      <td>2003-04</td>\n",
              "      <td>129</td>\n",
              "    </tr>\n",
              "    <tr>\n",
              "      <th>4</th>\n",
              "      <td>2003-05</td>\n",
              "      <td>121</td>\n",
              "    </tr>\n",
              "  </tbody>\n",
              "</table>\n",
              "</div>\n",
              "      <button class=\"colab-df-convert\" onclick=\"convertToInteractive('df-aa945f3e-52de-4b18-ad0e-e0393c2bc84f')\"\n",
              "              title=\"Convert this dataframe to an interactive table.\"\n",
              "              style=\"display:none;\">\n",
              "        \n",
              "  <svg xmlns=\"http://www.w3.org/2000/svg\" height=\"24px\"viewBox=\"0 0 24 24\"\n",
              "       width=\"24px\">\n",
              "    <path d=\"M0 0h24v24H0V0z\" fill=\"none\"/>\n",
              "    <path d=\"M18.56 5.44l.94 2.06.94-2.06 2.06-.94-2.06-.94-.94-2.06-.94 2.06-2.06.94zm-11 1L8.5 8.5l.94-2.06 2.06-.94-2.06-.94L8.5 2.5l-.94 2.06-2.06.94zm10 10l.94 2.06.94-2.06 2.06-.94-2.06-.94-.94-2.06-.94 2.06-2.06.94z\"/><path d=\"M17.41 7.96l-1.37-1.37c-.4-.4-.92-.59-1.43-.59-.52 0-1.04.2-1.43.59L10.3 9.45l-7.72 7.72c-.78.78-.78 2.05 0 2.83L4 21.41c.39.39.9.59 1.41.59.51 0 1.02-.2 1.41-.59l7.78-7.78 2.81-2.81c.8-.78.8-2.07 0-2.86zM5.41 20L4 18.59l7.72-7.72 1.47 1.35L5.41 20z\"/>\n",
              "  </svg>\n",
              "      </button>\n",
              "      \n",
              "  <style>\n",
              "    .colab-df-container {\n",
              "      display:flex;\n",
              "      flex-wrap:wrap;\n",
              "      gap: 12px;\n",
              "    }\n",
              "\n",
              "    .colab-df-convert {\n",
              "      background-color: #E8F0FE;\n",
              "      border: none;\n",
              "      border-radius: 50%;\n",
              "      cursor: pointer;\n",
              "      display: none;\n",
              "      fill: #1967D2;\n",
              "      height: 32px;\n",
              "      padding: 0 0 0 0;\n",
              "      width: 32px;\n",
              "    }\n",
              "\n",
              "    .colab-df-convert:hover {\n",
              "      background-color: #E2EBFA;\n",
              "      box-shadow: 0px 1px 2px rgba(60, 64, 67, 0.3), 0px 1px 3px 1px rgba(60, 64, 67, 0.15);\n",
              "      fill: #174EA6;\n",
              "    }\n",
              "\n",
              "    [theme=dark] .colab-df-convert {\n",
              "      background-color: #3B4455;\n",
              "      fill: #D2E3FC;\n",
              "    }\n",
              "\n",
              "    [theme=dark] .colab-df-convert:hover {\n",
              "      background-color: #434B5C;\n",
              "      box-shadow: 0px 1px 3px 1px rgba(0, 0, 0, 0.15);\n",
              "      filter: drop-shadow(0px 1px 2px rgba(0, 0, 0, 0.3));\n",
              "      fill: #FFFFFF;\n",
              "    }\n",
              "  </style>\n",
              "\n",
              "      <script>\n",
              "        const buttonEl =\n",
              "          document.querySelector('#df-aa945f3e-52de-4b18-ad0e-e0393c2bc84f button.colab-df-convert');\n",
              "        buttonEl.style.display =\n",
              "          google.colab.kernel.accessAllowed ? 'block' : 'none';\n",
              "\n",
              "        async function convertToInteractive(key) {\n",
              "          const element = document.querySelector('#df-aa945f3e-52de-4b18-ad0e-e0393c2bc84f');\n",
              "          const dataTable =\n",
              "            await google.colab.kernel.invokeFunction('convertToInteractive',\n",
              "                                                     [key], {});\n",
              "          if (!dataTable) return;\n",
              "\n",
              "          const docLinkHtml = 'Like what you see? Visit the ' +\n",
              "            '<a target=\"_blank\" href=https://colab.research.google.com/notebooks/data_table.ipynb>data table notebook</a>'\n",
              "            + ' to learn more about interactive tables.';\n",
              "          element.innerHTML = '';\n",
              "          dataTable['output_type'] = 'display_data';\n",
              "          await google.colab.output.renderOutput(dataTable, element);\n",
              "          const docLink = document.createElement('div');\n",
              "          docLink.innerHTML = docLinkHtml;\n",
              "          element.appendChild(docLink);\n",
              "        }\n",
              "      </script>\n",
              "    </div>\n",
              "  </div>\n",
              "  "
            ],
            "text/plain": [
              "     Month  #Passengers\n",
              "0  2003-01          112\n",
              "1  2003-02          118\n",
              "2  2003-03          132\n",
              "3  2003-04          129\n",
              "4  2003-05          121"
            ]
          },
          "metadata": {},
          "execution_count": 172
        }
      ],
      "source": [
        "df=pd.read_csv('SeaPlaneTravel.csv')\n",
        "df.head()"
      ]
    },
    {
      "cell_type": "code",
      "execution_count": 173,
      "metadata": {
        "colab": {
          "base_uri": "https://localhost:8080/"
        },
        "id": "6c812INsiM_u",
        "outputId": "81cb4156-9b46-4263-e4b8-0025b3565f7d"
      },
      "outputs": [
        {
          "output_type": "execute_result",
          "data": {
            "text/plain": [
              "Month          0\n",
              "#Passengers    0\n",
              "dtype: int64"
            ]
          },
          "metadata": {},
          "execution_count": 173
        }
      ],
      "source": [
        "df.isnull().sum()"
      ]
    },
    {
      "cell_type": "code",
      "execution_count": 174,
      "metadata": {
        "colab": {
          "base_uri": "https://localhost:8080/",
          "height": 300
        },
        "id": "hX8xrWQiiM_v",
        "outputId": "bddd284d-ea90-4ce5-f319-2bb3c4d3edda"
      },
      "outputs": [
        {
          "output_type": "execute_result",
          "data": {
            "text/html": [
              "\n",
              "  <div id=\"df-f1a95ae9-ae17-4430-a238-317fdcaf8bee\">\n",
              "    <div class=\"colab-df-container\">\n",
              "      <div>\n",
              "<style scoped>\n",
              "    .dataframe tbody tr th:only-of-type {\n",
              "        vertical-align: middle;\n",
              "    }\n",
              "\n",
              "    .dataframe tbody tr th {\n",
              "        vertical-align: top;\n",
              "    }\n",
              "\n",
              "    .dataframe thead th {\n",
              "        text-align: right;\n",
              "    }\n",
              "</style>\n",
              "<table border=\"1\" class=\"dataframe\">\n",
              "  <thead>\n",
              "    <tr style=\"text-align: right;\">\n",
              "      <th></th>\n",
              "      <th>#Passengers</th>\n",
              "    </tr>\n",
              "  </thead>\n",
              "  <tbody>\n",
              "    <tr>\n",
              "      <th>count</th>\n",
              "      <td>144.000000</td>\n",
              "    </tr>\n",
              "    <tr>\n",
              "      <th>mean</th>\n",
              "      <td>280.298611</td>\n",
              "    </tr>\n",
              "    <tr>\n",
              "      <th>std</th>\n",
              "      <td>119.966317</td>\n",
              "    </tr>\n",
              "    <tr>\n",
              "      <th>min</th>\n",
              "      <td>104.000000</td>\n",
              "    </tr>\n",
              "    <tr>\n",
              "      <th>25%</th>\n",
              "      <td>180.000000</td>\n",
              "    </tr>\n",
              "    <tr>\n",
              "      <th>50%</th>\n",
              "      <td>265.500000</td>\n",
              "    </tr>\n",
              "    <tr>\n",
              "      <th>75%</th>\n",
              "      <td>360.500000</td>\n",
              "    </tr>\n",
              "    <tr>\n",
              "      <th>max</th>\n",
              "      <td>622.000000</td>\n",
              "    </tr>\n",
              "  </tbody>\n",
              "</table>\n",
              "</div>\n",
              "      <button class=\"colab-df-convert\" onclick=\"convertToInteractive('df-f1a95ae9-ae17-4430-a238-317fdcaf8bee')\"\n",
              "              title=\"Convert this dataframe to an interactive table.\"\n",
              "              style=\"display:none;\">\n",
              "        \n",
              "  <svg xmlns=\"http://www.w3.org/2000/svg\" height=\"24px\"viewBox=\"0 0 24 24\"\n",
              "       width=\"24px\">\n",
              "    <path d=\"M0 0h24v24H0V0z\" fill=\"none\"/>\n",
              "    <path d=\"M18.56 5.44l.94 2.06.94-2.06 2.06-.94-2.06-.94-.94-2.06-.94 2.06-2.06.94zm-11 1L8.5 8.5l.94-2.06 2.06-.94-2.06-.94L8.5 2.5l-.94 2.06-2.06.94zm10 10l.94 2.06.94-2.06 2.06-.94-2.06-.94-.94-2.06-.94 2.06-2.06.94z\"/><path d=\"M17.41 7.96l-1.37-1.37c-.4-.4-.92-.59-1.43-.59-.52 0-1.04.2-1.43.59L10.3 9.45l-7.72 7.72c-.78.78-.78 2.05 0 2.83L4 21.41c.39.39.9.59 1.41.59.51 0 1.02-.2 1.41-.59l7.78-7.78 2.81-2.81c.8-.78.8-2.07 0-2.86zM5.41 20L4 18.59l7.72-7.72 1.47 1.35L5.41 20z\"/>\n",
              "  </svg>\n",
              "      </button>\n",
              "      \n",
              "  <style>\n",
              "    .colab-df-container {\n",
              "      display:flex;\n",
              "      flex-wrap:wrap;\n",
              "      gap: 12px;\n",
              "    }\n",
              "\n",
              "    .colab-df-convert {\n",
              "      background-color: #E8F0FE;\n",
              "      border: none;\n",
              "      border-radius: 50%;\n",
              "      cursor: pointer;\n",
              "      display: none;\n",
              "      fill: #1967D2;\n",
              "      height: 32px;\n",
              "      padding: 0 0 0 0;\n",
              "      width: 32px;\n",
              "    }\n",
              "\n",
              "    .colab-df-convert:hover {\n",
              "      background-color: #E2EBFA;\n",
              "      box-shadow: 0px 1px 2px rgba(60, 64, 67, 0.3), 0px 1px 3px 1px rgba(60, 64, 67, 0.15);\n",
              "      fill: #174EA6;\n",
              "    }\n",
              "\n",
              "    [theme=dark] .colab-df-convert {\n",
              "      background-color: #3B4455;\n",
              "      fill: #D2E3FC;\n",
              "    }\n",
              "\n",
              "    [theme=dark] .colab-df-convert:hover {\n",
              "      background-color: #434B5C;\n",
              "      box-shadow: 0px 1px 3px 1px rgba(0, 0, 0, 0.15);\n",
              "      filter: drop-shadow(0px 1px 2px rgba(0, 0, 0, 0.3));\n",
              "      fill: #FFFFFF;\n",
              "    }\n",
              "  </style>\n",
              "\n",
              "      <script>\n",
              "        const buttonEl =\n",
              "          document.querySelector('#df-f1a95ae9-ae17-4430-a238-317fdcaf8bee button.colab-df-convert');\n",
              "        buttonEl.style.display =\n",
              "          google.colab.kernel.accessAllowed ? 'block' : 'none';\n",
              "\n",
              "        async function convertToInteractive(key) {\n",
              "          const element = document.querySelector('#df-f1a95ae9-ae17-4430-a238-317fdcaf8bee');\n",
              "          const dataTable =\n",
              "            await google.colab.kernel.invokeFunction('convertToInteractive',\n",
              "                                                     [key], {});\n",
              "          if (!dataTable) return;\n",
              "\n",
              "          const docLinkHtml = 'Like what you see? Visit the ' +\n",
              "            '<a target=\"_blank\" href=https://colab.research.google.com/notebooks/data_table.ipynb>data table notebook</a>'\n",
              "            + ' to learn more about interactive tables.';\n",
              "          element.innerHTML = '';\n",
              "          dataTable['output_type'] = 'display_data';\n",
              "          await google.colab.output.renderOutput(dataTable, element);\n",
              "          const docLink = document.createElement('div');\n",
              "          docLink.innerHTML = docLinkHtml;\n",
              "          element.appendChild(docLink);\n",
              "        }\n",
              "      </script>\n",
              "    </div>\n",
              "  </div>\n",
              "  "
            ],
            "text/plain": [
              "       #Passengers\n",
              "count   144.000000\n",
              "mean    280.298611\n",
              "std     119.966317\n",
              "min     104.000000\n",
              "25%     180.000000\n",
              "50%     265.500000\n",
              "75%     360.500000\n",
              "max     622.000000"
            ]
          },
          "metadata": {},
          "execution_count": 174
        }
      ],
      "source": [
        "df.describe()"
      ]
    },
    {
      "cell_type": "code",
      "execution_count": 175,
      "metadata": {
        "colab": {
          "base_uri": "https://localhost:8080/",
          "height": 548
        },
        "id": "48W1zS49iM_v",
        "outputId": "a635e012-ced8-4e28-879e-d336cf598040"
      },
      "outputs": [
        {
          "output_type": "display_data",
          "data": {
            "image/png": "[encoded data removed]",
            "text/plain": [
              "<Figure size 840x600 with 1 Axes>"
            ]
          },
          "metadata": {
            "needs_background": "light"
          }
        }
      ],
      "source": [
        "plt.figure(figsize = (7,5)) \n",
        "plt.plot(df[\"#Passengers\"])\n",
        "plt.title(\"Plot of Monthly Passengers\")\n",
        "plt.show()"
      ]
    },
    {
      "cell_type": "code",
      "execution_count": 176,
      "metadata": {
        "colab": {
          "base_uri": "https://localhost:8080/"
        },
        "id": "WNDWpetIiM_x",
        "outputId": "d3ee9cdf-ec67-488c-8f99-d35ccc8dfe20"
      },
      "outputs": [
        {
          "output_type": "stream",
          "name": "stdout",
          "text": [
            "ADF Statistic is : 0.8153688792060418\n",
            "p-value is : 0.9918802434376409\n"
          ]
        }
      ],
      "source": [
        "from statsmodels.tsa.stattools import adfuller\n",
        "result = adfuller(df[\"#Passengers\"])\n",
        "print(\"ADF Statistic is :\",result[0])\n",
        "print(\"p-value is :\",result[1])"
      ]
    },
    {
      "cell_type": "markdown",
      "metadata": {
        "id": "6FeYG-ZFiM_x"
      },
      "source": [
        "non stationary"
      ]
    },
    {
      "cell_type": "code",
      "execution_count": 177,
      "metadata": {
        "colab": {
          "base_uri": "https://localhost:8080/",
          "height": 367
        },
        "id": "TaXEKjmyiM_z",
        "outputId": "a6e8a8f1-dda7-437a-81a4-95f6c210aba8"
      },
      "outputs": [
        {
          "output_type": "display_data",
          "data": {
            "image/png": "[encoded data removed]",
            "text/plain": [
              "<Figure size 960x360 with 2 Axes>"
            ]
          },
          "metadata": {
            "needs_background": "light"
          }
        }
      ],
      "source": [
        "#import plot_acf from statsmodels\n",
        "from statsmodels.graphics.tsaplots import plot_acf\n",
        "\n",
        "#Figure & Axis\n",
        "plt.rcParams.update({'figure.figsize':(8,3), 'figure.dpi':120})\n",
        "fig,axes = plt.subplots(1,2,sharex = True)\n",
        "\n",
        "#Original timeseries plot\n",
        "axes[0].plot(df[\"#Passengers\"])\n",
        "axes[0].set_title(\"Original TimeSeries\") \n",
        "plot_acf(df[\"#Passengers\"],lags = 90,ax = axes[1]) #90 time lags\n",
        "plt.show()"
      ]
    },
    {
      "cell_type": "code",
      "source": [
        "!pip install pmdarima"
      ],
      "metadata": {
        "colab": {
          "base_uri": "https://localhost:8080/"
        },
        "id": "7jLSkL9oIU_S",
        "outputId": "1be111de-830c-4790-cac1-483b95e85799"
      },
      "execution_count": 178,
      "outputs": [
        {
          "output_type": "stream",
          "name": "stdout",
          "text": [
            "Requirement already satisfied: pmdarima in /usr/local/lib/python3.7/dist-packages (1.8.4)\n",
            "Requirement already satisfied: Cython!=0.29.18,>=0.29 in /usr/local/lib/python3.7/dist-packages (from pmdarima) (0.29.27)\n",
            "Requirement already satisfied: statsmodels!=0.12.0,>=0.11 in /usr/local/lib/python3.7/dist-packages (from pmdarima) (0.13.2)\n",
            "Requirement already satisfied: pandas>=0.19 in /usr/local/lib/python3.7/dist-packages (from pmdarima) (1.3.5)\n",
            "Requirement already satisfied: setuptools!=50.0.0,>=38.6.0 in /usr/local/lib/python3.7/dist-packages (from pmdarima) (57.4.0)\n",
            "Requirement already satisfied: numpy>=1.19.3 in /usr/local/lib/python3.7/dist-packages (from pmdarima) (1.19.5)\n",
            "Requirement already satisfied: joblib>=0.11 in /usr/local/lib/python3.7/dist-packages (from pmdarima) (1.1.0)\n",
            "Requirement already satisfied: urllib3 in /usr/local/lib/python3.7/dist-packages (from pmdarima) (1.24.3)\n",
            "Requirement already satisfied: scipy>=1.3.2 in /usr/local/lib/python3.7/dist-packages (from pmdarima) (1.4.1)\n",
            "Requirement already satisfied: scikit-learn>=0.22 in /usr/local/lib/python3.7/dist-packages (from pmdarima) (1.0.2)\n",
            "Requirement already satisfied: pytz>=2017.3 in /usr/local/lib/python3.7/dist-packages (from pandas>=0.19->pmdarima) (2018.9)\n",
            "Requirement already satisfied: python-dateutil>=2.7.3 in /usr/local/lib/python3.7/dist-packages (from pandas>=0.19->pmdarima) (2.8.2)\n",
            "Requirement already satisfied: six>=1.5 in /usr/local/lib/python3.7/dist-packages (from python-dateutil>=2.7.3->pandas>=0.19->pmdarima) (1.15.0)\n",
            "Requirement already satisfied: threadpoolctl>=2.0.0 in /usr/local/lib/python3.7/dist-packages (from scikit-learn>=0.22->pmdarima) (3.1.0)\n",
            "Requirement already satisfied: packaging>=21.3 in /usr/local/lib/python3.7/dist-packages (from statsmodels!=0.12.0,>=0.11->pmdarima) (21.3)\n",
            "Requirement already satisfied: patsy>=0.5.2 in /usr/local/lib/python3.7/dist-packages (from statsmodels!=0.12.0,>=0.11->pmdarima) (0.5.2)\n",
            "Requirement already satisfied: pyparsing!=3.0.5,>=2.0.2 in /usr/local/lib/python3.7/dist-packages (from packaging>=21.3->statsmodels!=0.12.0,>=0.11->pmdarima) (3.0.7)\n"
          ]
        }
      ]
    },
    {
      "cell_type": "code",
      "source": [
        "from pmdarima.arima.utils import ndiffs"
      ],
      "metadata": {
        "id": "d2dnQ1YDiyzR"
      },
      "execution_count": 179,
      "outputs": []
    },
    {
      "cell_type": "code",
      "source": [
        "y=df['#Passengers']\n",
        "ndiffs(y,test='kpss')"
      ],
      "metadata": {
        "colab": {
          "base_uri": "https://localhost:8080/"
        },
        "id": "J8-XwTVli9Ny",
        "outputId": "c39755b9-7a8b-456c-c1f6-db5f983996c2"
      },
      "execution_count": 180,
      "outputs": [
        {
          "output_type": "execute_result",
          "data": {
            "text/plain": [
              "1"
            ]
          },
          "metadata": {},
          "execution_count": 180
        }
      ]
    },
    {
      "cell_type": "code",
      "source": [
        "ndiffs(y,test='adf')"
      ],
      "metadata": {
        "colab": {
          "base_uri": "https://localhost:8080/"
        },
        "id": "IO7aBEe8k_q3",
        "outputId": "482f057a-07f5-4801-9493-d3c8b0cdc0a0"
      },
      "execution_count": 181,
      "outputs": [
        {
          "output_type": "execute_result",
          "data": {
            "text/plain": [
              "0"
            ]
          },
          "metadata": {},
          "execution_count": 181
        }
      ]
    },
    {
      "cell_type": "code",
      "source": [
        "ndiffs(y,test='pp')"
      ],
      "metadata": {
        "colab": {
          "base_uri": "https://localhost:8080/"
        },
        "id": "JCgHuHzIlDno",
        "outputId": "92e4baf5-b231-4972-eb3f-f2999f86f365"
      },
      "execution_count": 182,
      "outputs": [
        {
          "output_type": "execute_result",
          "data": {
            "text/plain": [
              "0"
            ]
          },
          "metadata": {},
          "execution_count": 182
        }
      ]
    },
    {
      "cell_type": "code",
      "source": [
        "from pmdarima import auto_arima"
      ],
      "metadata": {
        "id": "-ZdR3AV0lGAf"
      },
      "execution_count": 183,
      "outputs": []
    },
    {
      "cell_type": "code",
      "source": [
        "model = auto_arima(df['#Passengers'], start_p=1, start_q=1,\n",
        "                      test='kpss',       \n",
        "                      max_p=10, max_q=10, \n",
        "                      m=1,              \n",
        "                      d=None,           \n",
        "                      seasonal=True,\n",
        "                      start_P=0, \n",
        "                      D=0, \n",
        "                      trace=True,\n",
        "                      error_action='ignore',  \n",
        "                      suppress_warnings=True, \n",
        "                      stepwise=True)"
      ],
      "metadata": {
        "colab": {
          "base_uri": "https://localhost:8080/"
        },
        "id": "KSYRu16RlxG_",
        "outputId": "dc49a985-0721-4826-c5e7-1ca30ea14aa2"
      },
      "execution_count": 209,
      "outputs": [
        {
          "output_type": "stream",
          "name": "stdout",
          "text": [
            "Performing stepwise search to minimize aic\n",
            " ARIMA(1,1,1)(0,0,0)[0] intercept   : AIC=1396.121, Time=0.47 sec\n",
            " ARIMA(0,1,0)(0,0,0)[0] intercept   : AIC=1415.278, Time=0.04 sec\n",
            " ARIMA(1,1,0)(0,0,0)[0] intercept   : AIC=1403.473, Time=0.10 sec\n",
            " ARIMA(0,1,1)(0,0,0)[0] intercept   : AIC=1398.827, Time=0.30 sec\n",
            " ARIMA(0,1,0)(0,0,0)[0]             : AIC=1413.909, Time=0.04 sec\n",
            " ARIMA(2,1,1)(0,0,0)[0] intercept   : AIC=inf, Time=1.13 sec\n",
            " ARIMA(1,1,2)(0,0,0)[0] intercept   : AIC=inf, Time=0.73 sec\n",
            " ARIMA(0,1,2)(0,0,0)[0] intercept   : AIC=1398.386, Time=0.36 sec\n",
            " ARIMA(2,1,0)(0,0,0)[0] intercept   : AIC=1397.975, Time=0.32 sec\n",
            " ARIMA(2,1,2)(0,0,0)[0] intercept   : AIC=inf, Time=1.45 sec\n",
            " ARIMA(1,1,1)(0,0,0)[0]             : AIC=1394.683, Time=0.19 sec\n",
            " ARIMA(0,1,1)(0,0,0)[0]             : AIC=1397.258, Time=0.10 sec\n",
            " ARIMA(1,1,0)(0,0,0)[0]             : AIC=1401.852, Time=0.03 sec\n",
            " ARIMA(2,1,1)(0,0,0)[0]             : AIC=1378.338, Time=0.09 sec\n",
            " ARIMA(2,1,0)(0,0,0)[0]             : AIC=1396.588, Time=0.05 sec\n",
            " ARIMA(3,1,1)(0,0,0)[0]             : AIC=1379.614, Time=0.18 sec\n",
            " ARIMA(2,1,2)(0,0,0)[0]             : AIC=inf, Time=0.38 sec\n",
            " ARIMA(1,1,2)(0,0,0)[0]             : AIC=1385.498, Time=0.10 sec\n",
            " ARIMA(3,1,0)(0,0,0)[0]             : AIC=1395.021, Time=0.06 sec\n",
            " ARIMA(3,1,2)(0,0,0)[0]             : AIC=1377.086, Time=0.23 sec\n",
            " ARIMA(4,1,2)(0,0,0)[0]             : AIC=1373.560, Time=0.29 sec\n",
            " ARIMA(4,1,1)(0,0,0)[0]             : AIC=1384.053, Time=0.22 sec\n",
            " ARIMA(5,1,2)(0,0,0)[0]             : AIC=1375.353, Time=0.33 sec\n",
            " ARIMA(4,1,3)(0,0,0)[0]             : AIC=1365.825, Time=0.55 sec\n",
            " ARIMA(3,1,3)(0,0,0)[0]             : AIC=inf, Time=0.63 sec\n",
            " ARIMA(5,1,3)(0,0,0)[0]             : AIC=inf, Time=0.73 sec\n",
            " ARIMA(4,1,4)(0,0,0)[0]             : AIC=inf, Time=0.82 sec\n",
            " ARIMA(3,1,4)(0,0,0)[0]             : AIC=inf, Time=0.76 sec\n",
            " ARIMA(5,1,4)(0,0,0)[0]             : AIC=inf, Time=0.77 sec\n",
            " ARIMA(4,1,3)(0,0,0)[0] intercept   : AIC=inf, Time=0.79 sec\n",
            "\n",
            "Best model:  ARIMA(4,1,3)(0,0,0)[0]          \n",
            "Total fit time: 12.296 seconds\n"
          ]
        }
      ]
    },
    {
      "cell_type": "code",
      "source": [
        "print(model.summary())"
      ],
      "metadata": {
        "id": "LoQdWGjdmFYY",
        "colab": {
          "base_uri": "https://localhost:8080/"
        },
        "outputId": "d2ad2e69-1c79-4a7f-e609-e337e5689831"
      },
      "execution_count": 210,
      "outputs": [
        {
          "output_type": "stream",
          "name": "stdout",
          "text": [
            "                               SARIMAX Results                                \n",
            "==============================================================================\n",
            "Dep. Variable:                      y   No. Observations:                  144\n",
            "Model:               SARIMAX(4, 1, 3)   Log Likelihood                -674.913\n",
            "Date:                Fri, 11 Feb 2022   AIC                           1365.825\n",
            "Time:                        06:12:22   BIC                           1389.528\n",
            "Sample:                             0   HQIC                          1375.457\n",
            "                                - 144                                         \n",
            "Covariance Type:                  opg                                         \n",
            "==============================================================================\n",
            "                 coef    std err          z      P>|z|      [0.025      0.975]\n",
            "------------------------------------------------------------------------------\n",
            "ar.L1         -0.5582      0.117     -4.782      0.000      -0.787      -0.329\n",
            "ar.L2          0.4935      0.113      4.375      0.000       0.272       0.715\n",
            "ar.L3          0.1238      0.128      0.970      0.332      -0.126       0.374\n",
            "ar.L4         -0.5213      0.085     -6.136      0.000      -0.688      -0.355\n",
            "ma.L1          0.9069      0.094      9.657      0.000       0.723       1.091\n",
            "ma.L2         -0.5590      0.145     -3.866      0.000      -0.842      -0.276\n",
            "ma.L3         -0.7385      0.109     -6.778      0.000      -0.952      -0.525\n",
            "sigma2       724.1711     85.615      8.458      0.000     556.368     891.974\n",
            "===================================================================================\n",
            "Ljung-Box (L1) (Q):                   0.37   Jarque-Bera (JB):                14.59\n",
            "Prob(Q):                              0.54   Prob(JB):                         0.00\n",
            "Heteroskedasticity (H):               5.66   Skew:                             0.74\n",
            "Prob(H) (two-sided):                  0.00   Kurtosis:                         3.52\n",
            "===================================================================================\n",
            "\n",
            "Warnings:\n",
            "[1] Covariance matrix calculated using the outer product of gradients (complex-step).\n"
          ]
        }
      ]
    },
    {
      "cell_type": "code",
      "source": [
        "df.shape"
      ],
      "metadata": {
        "colab": {
          "base_uri": "https://localhost:8080/"
        },
        "id": "KBPGnvM8LTeg",
        "outputId": "433de639-5ceb-4e62-941f-ce2a83429f29"
      },
      "execution_count": 207,
      "outputs": [
        {
          "output_type": "execute_result",
          "data": {
            "text/plain": [
              "(144, 2)"
            ]
          },
          "metadata": {},
          "execution_count": 207
        }
      ]
    },
    {
      "cell_type": "code",
      "source": [
        "#p=4 d=1 q=3\n",
        "train=df.iloc[:85]\n",
        "test=df[85:]\n",
        "train.head()"
      ],
      "metadata": {
        "id": "n_yoagD9LAVv",
        "colab": {
          "base_uri": "https://localhost:8080/",
          "height": 206
        },
        "outputId": "5df603e1-6d4c-46d9-a696-8ff38d799754"
      },
      "execution_count": 208,
      "outputs": [
        {
          "output_type": "execute_result",
          "data": {
            "text/html": [
              "\n",
              "  <div id=\"df-0a5080e9-10b1-4d39-8af6-bb83d30302f1\">\n",
              "    <div class=\"colab-df-container\">\n",
              "      <div>\n",
              "<style scoped>\n",
              "    .dataframe tbody tr th:only-of-type {\n",
              "        vertical-align: middle;\n",
              "    }\n",
              "\n",
              "    .dataframe tbody tr th {\n",
              "        vertical-align: top;\n",
              "    }\n",
              "\n",
              "    .dataframe thead th {\n",
              "        text-align: right;\n",
              "    }\n",
              "</style>\n",
              "<table border=\"1\" class=\"dataframe\">\n",
              "  <thead>\n",
              "    <tr style=\"text-align: right;\">\n",
              "      <th></th>\n",
              "      <th>Month</th>\n",
              "      <th>#Passengers</th>\n",
              "    </tr>\n",
              "  </thead>\n",
              "  <tbody>\n",
              "    <tr>\n",
              "      <th>0</th>\n",
              "      <td>2003-01</td>\n",
              "      <td>112</td>\n",
              "    </tr>\n",
              "    <tr>\n",
              "      <th>1</th>\n",
              "      <td>2003-02</td>\n",
              "      <td>118</td>\n",
              "    </tr>\n",
              "    <tr>\n",
              "      <th>2</th>\n",
              "      <td>2003-03</td>\n",
              "      <td>132</td>\n",
              "    </tr>\n",
              "    <tr>\n",
              "      <th>3</th>\n",
              "      <td>2003-04</td>\n",
              "      <td>129</td>\n",
              "    </tr>\n",
              "    <tr>\n",
              "      <th>4</th>\n",
              "      <td>2003-05</td>\n",
              "      <td>121</td>\n",
              "    </tr>\n",
              "  </tbody>\n",
              "</table>\n",
              "</div>\n",
              "      <button class=\"colab-df-convert\" onclick=\"convertToInteractive('df-0a5080e9-10b1-4d39-8af6-bb83d30302f1')\"\n",
              "              title=\"Convert this dataframe to an interactive table.\"\n",
              "              style=\"display:none;\">\n",
              "        \n",
              "  <svg xmlns=\"http://www.w3.org/2000/svg\" height=\"24px\"viewBox=\"0 0 24 24\"\n",
              "       width=\"24px\">\n",
              "    <path d=\"M0 0h24v24H0V0z\" fill=\"none\"/>\n",
              "    <path d=\"M18.56 5.44l.94 2.06.94-2.06 2.06-.94-2.06-.94-.94-2.06-.94 2.06-2.06.94zm-11 1L8.5 8.5l.94-2.06 2.06-.94-2.06-.94L8.5 2.5l-.94 2.06-2.06.94zm10 10l.94 2.06.94-2.06 2.06-.94-2.06-.94-.94-2.06-.94 2.06-2.06.94z\"/><path d=\"M17.41 7.96l-1.37-1.37c-.4-.4-.92-.59-1.43-.59-.52 0-1.04.2-1.43.59L10.3 9.45l-7.72 7.72c-.78.78-.78 2.05 0 2.83L4 21.41c.39.39.9.59 1.41.59.51 0 1.02-.2 1.41-.59l7.78-7.78 2.81-2.81c.8-.78.8-2.07 0-2.86zM5.41 20L4 18.59l7.72-7.72 1.47 1.35L5.41 20z\"/>\n",
              "  </svg>\n",
              "      </button>\n",
              "      \n",
              "  <style>\n",
              "    .colab-df-container {\n",
              "      display:flex;\n",
              "      flex-wrap:wrap;\n",
              "      gap: 12px;\n",
              "    }\n",
              "\n",
              "    .colab-df-convert {\n",
              "      background-color: #E8F0FE;\n",
              "      border: none;\n",
              "      border-radius: 50%;\n",
              "      cursor: pointer;\n",
              "      display: none;\n",
              "      fill: #1967D2;\n",
              "      height: 32px;\n",
              "      padding: 0 0 0 0;\n",
              "      width: 32px;\n",
              "    }\n",
              "\n",
              "    .colab-df-convert:hover {\n",
              "      background-color: #E2EBFA;\n",
              "      box-shadow: 0px 1px 2px rgba(60, 64, 67, 0.3), 0px 1px 3px 1px rgba(60, 64, 67, 0.15);\n",
              "      fill: #174EA6;\n",
              "    }\n",
              "\n",
              "    [theme=dark] .colab-df-convert {\n",
              "      background-color: #3B4455;\n",
              "      fill: #D2E3FC;\n",
              "    }\n",
              "\n",
              "    [theme=dark] .colab-df-convert:hover {\n",
              "      background-color: #434B5C;\n",
              "      box-shadow: 0px 1px 3px 1px rgba(0, 0, 0, 0.15);\n",
              "      filter: drop-shadow(0px 1px 2px rgba(0, 0, 0, 0.3));\n",
              "      fill: #FFFFFF;\n",
              "    }\n",
              "  </style>\n",
              "\n",
              "      <script>\n",
              "        const buttonEl =\n",
              "          document.querySelector('#df-0a5080e9-10b1-4d39-8af6-bb83d30302f1 button.colab-df-convert');\n",
              "        buttonEl.style.display =\n",
              "          google.colab.kernel.accessAllowed ? 'block' : 'none';\n",
              "\n",
              "        async function convertToInteractive(key) {\n",
              "          const element = document.querySelector('#df-0a5080e9-10b1-4d39-8af6-bb83d30302f1');\n",
              "          const dataTable =\n",
              "            await google.colab.kernel.invokeFunction('convertToInteractive',\n",
              "                                                     [key], {});\n",
              "          if (!dataTable) return;\n",
              "\n",
              "          const docLinkHtml = 'Like what you see? Visit the ' +\n",
              "            '<a target=\"_blank\" href=https://colab.research.google.com/notebooks/data_table.ipynb>data table notebook</a>'\n",
              "            + ' to learn more about interactive tables.';\n",
              "          element.innerHTML = '';\n",
              "          dataTable['output_type'] = 'display_data';\n",
              "          await google.colab.output.renderOutput(dataTable, element);\n",
              "          const docLink = document.createElement('div');\n",
              "          docLink.innerHTML = docLinkHtml;\n",
              "          element.appendChild(docLink);\n",
              "        }\n",
              "      </script>\n",
              "    </div>\n",
              "  </div>\n",
              "  "
            ],
            "text/plain": [
              "     Month  #Passengers\n",
              "0  2003-01          112\n",
              "1  2003-02          118\n",
              "2  2003-03          132\n",
              "3  2003-04          129\n",
              "4  2003-05          121"
            ]
          },
          "metadata": {},
          "execution_count": 208
        }
      ]
    },
    {
      "cell_type": "code",
      "source": [
        "model=auto_arima( train['#Passengers'],\n",
        "                  test='kpss',       \n",
        "                  max_p=5, max_q=4, \n",
        "                  m=1,              \n",
        "                  d=1,          \n",
        "                  seasonal=True,  \n",
        "                  start_P=0, \n",
        "                  D=0, \n",
        "                  trace=True,\n",
        "                  error_action='ignore',  \n",
        "                  suppress_warnings=True, \n",
        "                  stepwise=True)"
      ],
      "metadata": {
        "colab": {
          "base_uri": "https://localhost:8080/"
        },
        "id": "OLLfVjkJMSW2",
        "outputId": "f07f67de-fcf3-43a1-e70b-1221b800a47f"
      },
      "execution_count": 244,
      "outputs": [
        {
          "output_type": "stream",
          "name": "stdout",
          "text": [
            "Performing stepwise search to minimize aic\n",
            " ARIMA(2,1,2)(0,0,0)[0] intercept   : AIC=inf, Time=0.45 sec\n",
            " ARIMA(0,1,0)(0,0,0)[0] intercept   : AIC=755.130, Time=0.02 sec\n",
            " ARIMA(1,1,0)(0,0,0)[0] intercept   : AIC=753.589, Time=0.06 sec\n",
            " ARIMA(0,1,1)(0,0,0)[0] intercept   : AIC=751.952, Time=0.08 sec\n",
            " ARIMA(0,1,0)(0,0,0)[0]             : AIC=753.913, Time=0.01 sec\n",
            " ARIMA(1,1,1)(0,0,0)[0] intercept   : AIC=750.542, Time=0.12 sec\n",
            " ARIMA(2,1,1)(0,0,0)[0] intercept   : AIC=inf, Time=0.28 sec\n",
            " ARIMA(1,1,2)(0,0,0)[0] intercept   : AIC=inf, Time=0.34 sec\n",
            " ARIMA(0,1,2)(0,0,0)[0] intercept   : AIC=750.659, Time=0.09 sec\n",
            " ARIMA(2,1,0)(0,0,0)[0] intercept   : AIC=751.692, Time=0.12 sec\n",
            " ARIMA(1,1,1)(0,0,0)[0]             : AIC=749.185, Time=0.07 sec\n",
            " ARIMA(0,1,1)(0,0,0)[0]             : AIC=750.439, Time=0.03 sec\n",
            " ARIMA(1,1,0)(0,0,0)[0]             : AIC=752.121, Time=0.03 sec\n",
            " ARIMA(2,1,1)(0,0,0)[0]             : AIC=744.714, Time=0.10 sec\n",
            " ARIMA(2,1,0)(0,0,0)[0]             : AIC=750.387, Time=0.05 sec\n",
            " ARIMA(3,1,1)(0,0,0)[0]             : AIC=746.557, Time=0.12 sec\n",
            " ARIMA(2,1,2)(0,0,0)[0]             : AIC=inf, Time=0.38 sec\n",
            " ARIMA(1,1,2)(0,0,0)[0]             : AIC=745.955, Time=0.08 sec\n",
            " ARIMA(3,1,0)(0,0,0)[0]             : AIC=751.307, Time=0.05 sec\n",
            " ARIMA(3,1,2)(0,0,0)[0]             : AIC=745.347, Time=0.18 sec\n",
            "\n",
            "Best model:  ARIMA(2,1,1)(0,0,0)[0]          \n",
            "Total fit time: 2.718 seconds\n"
          ]
        }
      ]
    },
    {
      "cell_type": "code",
      "source": [
        "model.get_params"
      ],
      "metadata": {
        "colab": {
          "base_uri": "https://localhost:8080/"
        },
        "id": "n5zdOaBWbrRC",
        "outputId": "cc1fafbe-32ae-4fb5-b9a5-789866b0b225"
      },
      "execution_count": 245,
      "outputs": [
        {
          "output_type": "execute_result",
          "data": {
            "text/plain": [
              "<bound method BaseEstimator.get_params of ARIMA(order=(2, 1, 1), scoring_args={}, suppress_warnings=True,\n",
              "      with_intercept=False)>"
            ]
          },
          "metadata": {},
          "execution_count": 245
        }
      ]
    },
    {
      "cell_type": "code",
      "source": [
        "model.set_params(order=(2,2,1))"
      ],
      "metadata": {
        "colab": {
          "base_uri": "https://localhost:8080/"
        },
        "id": "DgukjXVJcfdS",
        "outputId": "94134ba6-b86a-43c5-db41-53d8368aae8a"
      },
      "execution_count": 246,
      "outputs": [
        {
          "output_type": "execute_result",
          "data": {
            "text/plain": [
              "ARIMA(order=(2, 2, 1), scoring_args={}, suppress_warnings=True,\n",
              "      with_intercept=False)"
            ]
          },
          "metadata": {},
          "execution_count": 246
        }
      ]
    },
    {
      "cell_type": "code",
      "source": [
        "model.fit(train['#Passengers'])"
      ],
      "metadata": {
        "id": "bRHJMPoVMwNp",
        "colab": {
          "base_uri": "https://localhost:8080/"
        },
        "outputId": "d7f4ea02-497a-434a-9f87-e0d1878a0392"
      },
      "execution_count": 247,
      "outputs": [
        {
          "output_type": "execute_result",
          "data": {
            "text/plain": [
              "ARIMA(order=(2, 2, 1), scoring_args={}, suppress_warnings=True,\n",
              "      with_intercept=False)"
            ]
          },
          "metadata": {},
          "execution_count": 247
        }
      ]
    },
    {
      "cell_type": "code",
      "source": [
        "len(test)"
      ],
      "metadata": {
        "colab": {
          "base_uri": "https://localhost:8080/"
        },
        "id": "tjBUj8JWXXGu",
        "outputId": "abc40c83-9ba6-4702-b758-a82d4ab918c3"
      },
      "execution_count": 248,
      "outputs": [
        {
          "output_type": "execute_result",
          "data": {
            "text/plain": [
              "59"
            ]
          },
          "metadata": {},
          "execution_count": 248
        }
      ]
    },
    {
      "cell_type": "code",
      "source": [
        "forecast, confidence_interval = model.predict(n_periods = 59, return_conf_int = True, alpha=0.05)"
      ],
      "metadata": {
        "id": "LXoNBkBhXYsH"
      },
      "execution_count": 249,
      "outputs": []
    },
    {
      "cell_type": "code",
      "source": [
        "forecast"
      ],
      "metadata": {
        "colab": {
          "base_uri": "https://localhost:8080/"
        },
        "id": "1wWjmFvRXnsg",
        "outputId": "cb0499a3-d1a9-4d5a-841c-f886640e43f7"
      },
      "execution_count": 250,
      "outputs": [
        {
          "output_type": "execute_result",
          "data": {
            "text/plain": [
              "array([278.92788077, 278.22926475, 280.92084294, 283.57716845,\n",
              "       285.5276415 , 287.30552623, 289.18453088, 291.12477491,\n",
              "       293.05983559, 294.98098763, 296.89966154, 298.82056306,\n",
              "       300.74254152, 302.66433647, 304.58586328, 306.50735951,\n",
              "       308.42890306, 310.35046495, 312.27202179, 314.19357357,\n",
              "       316.1151251 , 318.03667761, 319.95823042, 321.8797831 ,\n",
              "       323.80133569, 325.72288828, 327.64444089, 329.56599351,\n",
              "       331.48754612, 333.40909873, 335.33065135, 337.25220396,\n",
              "       339.17375657, 341.09530918, 343.01686179, 344.9384144 ,\n",
              "       346.85996702, 348.78151963, 350.70307224, 352.62462485,\n",
              "       354.54617746, 356.46773008, 358.38928269, 360.3108353 ,\n",
              "       362.23238791, 364.15394052, 366.07549313, 367.99704575,\n",
              "       369.91859836, 371.84015097, 373.76170358, 375.68325619,\n",
              "       377.6048088 , 379.52636142, 381.44791403, 383.36946664,\n",
              "       385.29101925, 387.21257186, 389.13412448])"
            ]
          },
          "metadata": {},
          "execution_count": 250
        }
      ]
    },
    {
      "cell_type": "code",
      "source": [
        "confidence_interval"
      ],
      "metadata": {
        "colab": {
          "base_uri": "https://localhost:8080/"
        },
        "id": "_-jddgDnXyFP",
        "outputId": "d4e06140-356d-4ef0-a4b5-3b1507e788b6"
      },
      "execution_count": 251,
      "outputs": [
        {
          "output_type": "execute_result",
          "data": {
            "text/plain": [
              "array([[238.80391944, 319.05184209],\n",
              "       [213.48029167, 342.97823782],\n",
              "       [201.63429994, 360.20738594],\n",
              "       [193.50889321, 373.64544369],\n",
              "       [185.52430576, 385.53097724],\n",
              "       [177.76101899, 396.85003346],\n",
              "       [170.63097226, 407.73808951],\n",
              "       [164.07828563, 418.17126418],\n",
              "       [157.91904264, 428.20062854],\n",
              "       [152.05375962, 437.90821564],\n",
              "       [146.44421805, 447.35510503],\n",
              "       [141.06207856, 456.57904757],\n",
              "       [135.87758401, 465.60749903],\n",
              "       [130.86464808, 474.46402485],\n",
              "       [126.00281525, 483.16891132],\n",
              "       [121.27568619, 491.73903283],\n",
              "       [116.66939319, 500.18841293],\n",
              "       [112.17198928, 508.52894062],\n",
              "       [107.77318979, 516.7708538 ],\n",
              "       [103.46411587, 524.92303127],\n",
              "       [ 99.23703896, 532.99321125],\n",
              "       [ 95.08517736, 540.98817786],\n",
              "       [ 91.00254499, 548.91391585],\n",
              "       [ 86.98383246, 556.77573374],\n",
              "       [ 83.02430868, 564.5783627 ],\n",
              "       [ 79.11973904, 572.32603753],\n",
              "       [ 75.26631768, 580.02256411],\n",
              "       [ 71.4606113 , 587.67137572],\n",
              "       [ 67.69951193, 595.27558031],\n",
              "       [ 63.98019706, 602.8380004 ],\n",
              "       [ 60.30009566, 610.36120703],\n",
              "       [ 56.65685919, 617.84754873],\n",
              "       [ 53.04833667, 625.29917647],\n",
              "       [ 49.47255323, 632.71806513],\n",
              "       [ 45.92769143, 640.10603216],\n",
              "       [ 42.41207505, 647.46475376],\n",
              "       [ 38.92415492, 654.79577911],\n",
              "       [ 35.4624965 , 662.10054276],\n",
              "       [ 32.02576887, 669.3803756 ],\n",
              "       [ 28.61273517, 676.63651453],\n",
              "       [ 25.22224395, 683.87011098],\n",
              "       [ 21.85322158, 691.08223857],\n",
              "       [ 18.50466551, 698.27389986],\n",
              "       [ 15.17563818, 705.44603241],\n",
              "       [ 11.8652616 , 712.59951422],\n",
              "       [  8.57271248, 719.73516857],\n",
              "       [  5.29721785, 726.85376842],\n",
              "       [  2.03805112, 733.95604037],\n",
              "       [ -1.20547152, 741.04266824],\n",
              "       [ -4.43399433, 748.11429627],\n",
              "       [ -7.64812494, 755.1715321 ],\n",
              "       [-10.84843703, 762.21494941],\n",
              "       [-14.03547278, 769.24509039],\n",
              "       [-17.20974506, 776.26246789],\n",
              "       [-20.37173949, 783.26756754],\n",
              "       [-23.52191626, 790.26084954],\n",
              "       [-26.66071187, 797.24275038],\n",
              "       [-29.78854067, 804.2136844 ],\n",
              "       [-32.90579631, 811.17404526]])"
            ]
          },
          "metadata": {},
          "execution_count": 251
        }
      ]
    },
    {
      "cell_type": "code",
      "source": [
        "test[\"forecast\"] = forecast\n",
        "test[\"lower_range\"] = confidence_interval[:,0]\n",
        "test[\"upper_range\"] = confidence_interval[:,1]\n",
        "test.head()"
      ],
      "metadata": {
        "colab": {
          "base_uri": "https://localhost:8080/",
          "height": 518
        },
        "id": "TRQUh4x_X1vm",
        "outputId": "70cc1fd0-3ab4-4b1a-8f19-af54d1acd836"
      },
      "execution_count": 252,
      "outputs": [
        {
          "output_type": "stream",
          "name": "stderr",
          "text": [
            "/usr/local/lib/python3.7/dist-packages/ipykernel_launcher.py:1: SettingWithCopyWarning: \n",
            "A value is trying to be set on a copy of a slice from a DataFrame.\n",
            "Try using .loc[row_indexer,col_indexer] = value instead\n",
            "\n",
            "See the caveats in the documentation: https://pandas.pydata.org/pandas-docs/stable/user_guide/indexing.html#returning-a-view-versus-a-copy\n",
            "  \"\"\"Entry point for launching an IPython kernel.\n",
            "/usr/local/lib/python3.7/dist-packages/ipykernel_launcher.py:2: SettingWithCopyWarning: \n",
            "A value is trying to be set on a copy of a slice from a DataFrame.\n",
            "Try using .loc[row_indexer,col_indexer] = value instead\n",
            "\n",
            "See the caveats in the documentation: https://pandas.pydata.org/pandas-docs/stable/user_guide/indexing.html#returning-a-view-versus-a-copy\n",
            "  \n",
            "/usr/local/lib/python3.7/dist-packages/ipykernel_launcher.py:3: SettingWithCopyWarning: \n",
            "A value is trying to be set on a copy of a slice from a DataFrame.\n",
            "Try using .loc[row_indexer,col_indexer] = value instead\n",
            "\n",
            "See the caveats in the documentation: https://pandas.pydata.org/pandas-docs/stable/user_guide/indexing.html#returning-a-view-versus-a-copy\n",
            "  This is separate from the ipykernel package so we can avoid doing imports until\n"
          ]
        },
        {
          "output_type": "execute_result",
          "data": {
            "text/html": [
              "\n",
              "  <div id=\"df-54ce5d69-f5fe-4e7e-95ba-3e54bc8a753f\">\n",
              "    <div class=\"colab-df-container\">\n",
              "      <div>\n",
              "<style scoped>\n",
              "    .dataframe tbody tr th:only-of-type {\n",
              "        vertical-align: middle;\n",
              "    }\n",
              "\n",
              "    .dataframe tbody tr th {\n",
              "        vertical-align: top;\n",
              "    }\n",
              "\n",
              "    .dataframe thead th {\n",
              "        text-align: right;\n",
              "    }\n",
              "</style>\n",
              "<table border=\"1\" class=\"dataframe\">\n",
              "  <thead>\n",
              "    <tr style=\"text-align: right;\">\n",
              "      <th></th>\n",
              "      <th>Month</th>\n",
              "      <th>#Passengers</th>\n",
              "      <th>forecast</th>\n",
              "      <th>lower_range</th>\n",
              "      <th>upper_range</th>\n",
              "    </tr>\n",
              "  </thead>\n",
              "  <tbody>\n",
              "    <tr>\n",
              "      <th>85</th>\n",
              "      <td>2011-02</td>\n",
              "      <td>277</td>\n",
              "      <td>278.927881</td>\n",
              "      <td>238.803919</td>\n",
              "      <td>319.051842</td>\n",
              "    </tr>\n",
              "    <tr>\n",
              "      <th>86</th>\n",
              "      <td>2011-03</td>\n",
              "      <td>317</td>\n",
              "      <td>278.229265</td>\n",
              "      <td>213.480292</td>\n",
              "      <td>342.978238</td>\n",
              "    </tr>\n",
              "    <tr>\n",
              "      <th>87</th>\n",
              "      <td>2011-04</td>\n",
              "      <td>313</td>\n",
              "      <td>280.920843</td>\n",
              "      <td>201.634300</td>\n",
              "      <td>360.207386</td>\n",
              "    </tr>\n",
              "    <tr>\n",
              "      <th>88</th>\n",
              "      <td>2011-05</td>\n",
              "      <td>318</td>\n",
              "      <td>283.577168</td>\n",
              "      <td>193.508893</td>\n",
              "      <td>373.645444</td>\n",
              "    </tr>\n",
              "    <tr>\n",
              "      <th>89</th>\n",
              "      <td>2011-06</td>\n",
              "      <td>374</td>\n",
              "      <td>285.527642</td>\n",
              "      <td>185.524306</td>\n",
              "      <td>385.530977</td>\n",
              "    </tr>\n",
              "  </tbody>\n",
              "</table>\n",
              "</div>\n",
              "      <button class=\"colab-df-convert\" onclick=\"convertToInteractive('df-54ce5d69-f5fe-4e7e-95ba-3e54bc8a753f')\"\n",
              "              title=\"Convert this dataframe to an interactive table.\"\n",
              "              style=\"display:none;\">\n",
              "        \n",
              "  <svg xmlns=\"http://www.w3.org/2000/svg\" height=\"24px\"viewBox=\"0 0 24 24\"\n",
              "       width=\"24px\">\n",
              "    <path d=\"M0 0h24v24H0V0z\" fill=\"none\"/>\n",
              "    <path d=\"M18.56 5.44l.94 2.06.94-2.06 2.06-.94-2.06-.94-.94-2.06-.94 2.06-2.06.94zm-11 1L8.5 8.5l.94-2.06 2.06-.94-2.06-.94L8.5 2.5l-.94 2.06-2.06.94zm10 10l.94 2.06.94-2.06 2.06-.94-2.06-.94-.94-2.06-.94 2.06-2.06.94z\"/><path d=\"M17.41 7.96l-1.37-1.37c-.4-.4-.92-.59-1.43-.59-.52 0-1.04.2-1.43.59L10.3 9.45l-7.72 7.72c-.78.78-.78 2.05 0 2.83L4 21.41c.39.39.9.59 1.41.59.51 0 1.02-.2 1.41-.59l7.78-7.78 2.81-2.81c.8-.78.8-2.07 0-2.86zM5.41 20L4 18.59l7.72-7.72 1.47 1.35L5.41 20z\"/>\n",
              "  </svg>\n",
              "      </button>\n",
              "      \n",
              "  <style>\n",
              "    .colab-df-container {\n",
              "      display:flex;\n",
              "      flex-wrap:wrap;\n",
              "      gap: 12px;\n",
              "    }\n",
              "\n",
              "    .colab-df-convert {\n",
              "      background-color: #E8F0FE;\n",
              "      border: none;\n",
              "      border-radius: 50%;\n",
              "      cursor: pointer;\n",
              "      display: none;\n",
              "      fill: #1967D2;\n",
              "      height: 32px;\n",
              "      padding: 0 0 0 0;\n",
              "      width: 32px;\n",
              "    }\n",
              "\n",
              "    .colab-df-convert:hover {\n",
              "      background-color: #E2EBFA;\n",
              "      box-shadow: 0px 1px 2px rgba(60, 64, 67, 0.3), 0px 1px 3px 1px rgba(60, 64, 67, 0.15);\n",
              "      fill: #174EA6;\n",
              "    }\n",
              "\n",
              "    [theme=dark] .colab-df-convert {\n",
              "      background-color: #3B4455;\n",
              "      fill: #D2E3FC;\n",
              "    }\n",
              "\n",
              "    [theme=dark] .colab-df-convert:hover {\n",
              "      background-color: #434B5C;\n",
              "      box-shadow: 0px 1px 3px 1px rgba(0, 0, 0, 0.15);\n",
              "      filter: drop-shadow(0px 1px 2px rgba(0, 0, 0, 0.3));\n",
              "      fill: #FFFFFF;\n",
              "    }\n",
              "  </style>\n",
              "\n",
              "      <script>\n",
              "        const buttonEl =\n",
              "          document.querySelector('#df-54ce5d69-f5fe-4e7e-95ba-3e54bc8a753f button.colab-df-convert');\n",
              "        buttonEl.style.display =\n",
              "          google.colab.kernel.accessAllowed ? 'block' : 'none';\n",
              "\n",
              "        async function convertToInteractive(key) {\n",
              "          const element = document.querySelector('#df-54ce5d69-f5fe-4e7e-95ba-3e54bc8a753f');\n",
              "          const dataTable =\n",
              "            await google.colab.kernel.invokeFunction('convertToInteractive',\n",
              "                                                     [key], {});\n",
              "          if (!dataTable) return;\n",
              "\n",
              "          const docLinkHtml = 'Like what you see? Visit the ' +\n",
              "            '<a target=\"_blank\" href=https://colab.research.google.com/notebooks/data_table.ipynb>data table notebook</a>'\n",
              "            + ' to learn more about interactive tables.';\n",
              "          element.innerHTML = '';\n",
              "          dataTable['output_type'] = 'display_data';\n",
              "          await google.colab.output.renderOutput(dataTable, element);\n",
              "          const docLink = document.createElement('div');\n",
              "          docLink.innerHTML = docLinkHtml;\n",
              "          element.appendChild(docLink);\n",
              "        }\n",
              "      </script>\n",
              "    </div>\n",
              "  </div>\n",
              "  "
            ],
            "text/plain": [
              "      Month  #Passengers    forecast  lower_range  upper_range\n",
              "85  2011-02          277  278.927881   238.803919   319.051842\n",
              "86  2011-03          317  278.229265   213.480292   342.978238\n",
              "87  2011-04          313  280.920843   201.634300   360.207386\n",
              "88  2011-05          318  283.577168   193.508893   373.645444\n",
              "89  2011-06          374  285.527642   185.524306   385.530977"
            ]
          },
          "metadata": {},
          "execution_count": 252
        }
      ]
    },
    {
      "cell_type": "code",
      "source": [
        "#Create Plot\n",
        "plt.figure(figsize=(12,5), dpi=100)\n",
        "plt.plot(train[\"#Passengers\"], label='train data')\n",
        "plt.plot(test[\"#Passengers\"], label='actual')\n",
        "plt.plot(test[\"forecast\"], label='forecast')\n",
        "plt.fill_between(test.index, test[\"lower_range\"], test[\"upper_range\"], \n",
        "                 color='k', alpha=.15)\n",
        "plt.title('Forecast vs Actuals')\n",
        "plt.legend(loc='upper left', fontsize=8) \n",
        "plt.show()"
      ],
      "metadata": {
        "colab": {
          "base_uri": "https://localhost:8080/",
          "height": 460
        },
        "id": "aps_BO-DX-k4",
        "outputId": "8fb9b439-522a-4e32-a542-d4252504ea57"
      },
      "execution_count": 253,
      "outputs": [
        {
          "output_type": "display_data",
          "data": {
            "image/png": "[encoded data removed]",
            "text/plain": [
              "<Figure size 1200x500 with 1 Axes>"
            ]
          },
          "metadata": {
            "needs_background": "light"
          }
        }
      ]
    },
    {
      "cell_type": "code",
      "source": [
        "from pmdarima.metrics import smape"
      ],
      "metadata": {
        "id": "R2Yc33aKYYcj"
      },
      "execution_count": 254,
      "outputs": []
    },
    {
      "cell_type": "code",
      "source": [
        "mpe=smape(test['#Passengers'],test['forecast'])\n",
        "mpe"
      ],
      "metadata": {
        "colab": {
          "base_uri": "https://localhost:8080/"
        },
        "id": "zj5t_b-QbOLH",
        "outputId": "b5ed8ec8-5e92-4788-d57e-8274288c8bc1"
      },
      "execution_count": 255,
      "outputs": [
        {
          "output_type": "execute_result",
          "data": {
            "text/plain": [
              "17.230506479134682"
            ]
          },
          "metadata": {},
          "execution_count": 255
        }
      ]
    },
    {
      "cell_type": "code",
      "source": [
        "print(f'Model is {100-mpe}% accurate.')"
      ],
      "metadata": {
        "colab": {
          "base_uri": "https://localhost:8080/"
        },
        "id": "PaMNrmtYcH2D",
        "outputId": "6c075a8f-61ce-44fe-ea3d-592c7164f947"
      },
      "execution_count": 257,
      "outputs": [
        {
          "output_type": "stream",
          "name": "stdout",
          "text": [
            "Model is 82.76949352086532% accurate.\n"
          ]
        }
      ]
    },
    {
      "cell_type": "markdown",
      "source": [
        "#Forecast for next 30 days"
      ],
      "metadata": {
        "id": "Ia6RILdfddD-"
      }
    },
    {
      "cell_type": "code",
      "source": [
        "model = auto_arima(df['#Passengers'], start_p=1, start_q=1,\n",
        "                      test='kpss',       # use adftest to find optimal 'd'\n",
        "                      max_p=5, max_q=5, # maximum p and q\n",
        "                      m=1,              # frequency of series\n",
        "                      d=2,           # let model determine 'd'\n",
        "                      seasonal=True,   # No Seasonality\n",
        "                      start_P=0, \n",
        "                      D=0, \n",
        "                      trace=True,\n",
        "                      error_action='ignore',  \n",
        "                      suppress_warnings=True, \n",
        "                      stepwise=True)"
      ],
      "metadata": {
        "colab": {
          "base_uri": "https://localhost:8080/"
        },
        "id": "4awi1PmRdNDu",
        "outputId": "864c8ce6-0e41-4fdf-ab2c-87b6c54418e3"
      },
      "execution_count": 260,
      "outputs": [
        {
          "output_type": "stream",
          "name": "stdout",
          "text": [
            "Performing stepwise search to minimize aic\n",
            " ARIMA(1,2,1)(0,0,0)[0]             : AIC=inf, Time=0.39 sec\n",
            " ARIMA(0,2,0)(0,0,0)[0]             : AIC=1450.596, Time=0.03 sec\n",
            " ARIMA(1,2,0)(0,0,0)[0]             : AIC=1447.027, Time=0.07 sec\n",
            " ARIMA(0,2,1)(0,0,0)[0]             : AIC=inf, Time=0.15 sec\n",
            " ARIMA(2,2,0)(0,0,0)[0]             : AIC=1440.078, Time=0.11 sec\n",
            " ARIMA(3,2,0)(0,0,0)[0]             : AIC=1437.879, Time=0.20 sec\n",
            " ARIMA(4,2,0)(0,0,0)[0]             : AIC=1419.706, Time=0.30 sec\n",
            " ARIMA(5,2,0)(0,0,0)[0]             : AIC=1420.109, Time=0.33 sec\n",
            " ARIMA(4,2,1)(0,0,0)[0]             : AIC=inf, Time=0.56 sec\n",
            " ARIMA(3,2,1)(0,0,0)[0]             : AIC=inf, Time=0.77 sec\n",
            " ARIMA(5,2,1)(0,0,0)[0]             : AIC=inf, Time=0.77 sec\n",
            " ARIMA(4,2,0)(0,0,0)[0] intercept   : AIC=1421.692, Time=0.35 sec\n",
            "\n",
            "Best model:  ARIMA(4,2,0)(0,0,0)[0]          \n",
            "Total fit time: 4.065 seconds\n"
          ]
        }
      ]
    },
    {
      "cell_type": "code",
      "source": [
        "print(model.summary())"
      ],
      "metadata": {
        "colab": {
          "base_uri": "https://localhost:8080/"
        },
        "id": "S9qXriwidyVe",
        "outputId": "ab42abce-60c4-4c1b-ecb7-bb6fba1e263e"
      },
      "execution_count": 261,
      "outputs": [
        {
          "output_type": "stream",
          "name": "stdout",
          "text": [
            "                               SARIMAX Results                                \n",
            "==============================================================================\n",
            "Dep. Variable:                      y   No. Observations:                  144\n",
            "Model:               SARIMAX(4, 2, 0)   Log Likelihood                -704.853\n",
            "Date:                Fri, 11 Feb 2022   AIC                           1419.706\n",
            "Time:                        06:28:15   BIC                           1434.485\n",
            "Sample:                             0   HQIC                          1425.712\n",
            "                                - 144                                         \n",
            "Covariance Type:                  opg                                         \n",
            "==============================================================================\n",
            "                 coef    std err          z      P>|z|      [0.025      0.975]\n",
            "------------------------------------------------------------------------------\n",
            "ar.L1         -0.3496      0.095     -3.668      0.000      -0.536      -0.163\n",
            "ar.L2         -0.4159      0.095     -4.396      0.000      -0.601      -0.230\n",
            "ar.L3         -0.2744      0.070     -3.902      0.000      -0.412      -0.137\n",
            "ar.L4         -0.3784      0.078     -4.875      0.000      -0.531      -0.226\n",
            "sigma2      1192.0587    136.187      8.753      0.000     925.136    1458.981\n",
            "===================================================================================\n",
            "Ljung-Box (L1) (Q):                   0.24   Jarque-Bera (JB):                 4.95\n",
            "Prob(Q):                              0.63   Prob(JB):                         0.08\n",
            "Heteroskedasticity (H):               8.27   Skew:                            -0.27\n",
            "Prob(H) (two-sided):                  0.00   Kurtosis:                         3.74\n",
            "===================================================================================\n",
            "\n",
            "Warnings:\n",
            "[1] Covariance matrix calculated using the outer product of gradients (complex-step).\n"
          ]
        }
      ]
    },
    {
      "cell_type": "code",
      "source": [
        "model.fit(df['#Passengers'])"
      ],
      "metadata": {
        "colab": {
          "base_uri": "https://localhost:8080/"
        },
        "id": "GP-TkFhFd5NP",
        "outputId": "bcadd45a-02e7-4c71-c4cb-edcf69961806"
      },
      "execution_count": 262,
      "outputs": [
        {
          "output_type": "execute_result",
          "data": {
            "text/plain": [
              "ARIMA(order=(4, 2, 0), scoring_args={}, suppress_warnings=True,\n",
              "      with_intercept=False)"
            ]
          },
          "metadata": {},
          "execution_count": 262
        }
      ]
    },
    {
      "cell_type": "code",
      "source": [
        "forecast, confidence_interval = model.predict(n_periods = 30, return_conf_int = True, alpha=0.05)\n",
        "predict = pd.DataFrame() \n",
        "predict[\"forecast\"] = forecast\n",
        "predict[\"lower_range\"] = confidence_interval[:,0]\n",
        "predict[\"upper_range\"] = confidence_interval[:,1]\n",
        "plt.figure(figsize=(12,5), dpi=100)\n",
        "plt.plot(df[\"#Passengers\"], label='Actual')\n",
        "plt.plot(np.arange(100,130),predict[\"forecast\"], label='forecast')\n",
        "plt.fill_between(np.arange(100,130), predict[\"lower_range\"], predict[\"upper_range\"], \n",
        "                 color='k', alpha=.15)\n",
        "plt.title('Forecast vs Actuals')\n",
        "plt.legend(loc='upper left', fontsize=8)\n",
        "plt.show()"
      ],
      "metadata": {
        "colab": {
          "base_uri": "https://localhost:8080/",
          "height": 460
        },
        "id": "pUh3-J4peFQV",
        "outputId": "e875e03f-d9c4-444a-e263-c1b709ffb6f2"
      },
      "execution_count": 263,
      "outputs": [
        {
          "output_type": "display_data",
          "data": {
            "image/png": "[encoded data removed]",
            "text/plain": [
              "<Figure size 1200x500 with 1 Axes>"
            ]
          },
          "metadata": {
            "needs_background": "light"
          }
        }
      ]
    },
    {
      "cell_type": "code",
      "source": [
        ""
      ],
      "metadata": {
        "id": "3DodQFSEeMAl"
      },
      "execution_count": null,
      "outputs": []
    }
  ],
  "metadata": {
    "interpreter": {
      "hash": "2af8ada8a5a2e45e9f3d8496a51a3a7e56453f171731aeb80dbebaef8ae34cdd"
    },
    "kernelspec": {
      "display_name": "Python 3.8.8 ('base')",
      "language": "python",
      "name": "python3"
    },
    "language_info": {
      "codemirror_mode": {
        "name": "ipython",
        "version": 3
      },
      "file_extension": ".py",
      "mimetype": "text/x-python",
      "name": "python",
      "nbconvert_exporter": "python",
      "pygments_lexer": "ipython3",
      "version": "3.8.8"
    },
    "orig_nbformat": 4,
    "colab": {
      "name": "MODULE_13_CASE_STUDY_I.ipynb",
      "provenance": [],
      "collapsed_sections": []
    }
  },
  "nbformat": 4,
  "nbformat_minor": 0
}